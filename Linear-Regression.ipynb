{
 "cells": [
  {
   "cell_type": "markdown",
   "metadata": {},
   "source": [
    "# <center>Đồ án 3: `Linear Regression`</center>"
   ]
  },
  {
   "cell_type": "markdown",
   "metadata": {},
   "source": [
    "- ##### Name: `Lý Nhật Hào`\n",
    "- ##### MSSV: `21127041`\n",
    "- ##### Class: `21CLC04`\n",
    "\n",
    "Trong file.ipynb trên sẽ bao gồm:\n",
    "- `source code` giải quyết yêu cầu đồ án 3 cũng như mục tiêu của đồ án đó là:\n",
    "    - Tìm hiểu các yếu tố quyết định mức lương và việc làm của các kỹ sư ngay sau khi tốt nghiệp. Các yếu tố như điểm số ở các cấp/trường đại học, kỹ năng của ứng viên, sự liên kết giữa trường đại học và các khu công nghiệp/công ty công nghệ, bằng cấp của sinh viên và điều kiện thị trường cho các ngành công nghiệp cụ thể sẽ ảnh hưởng đến điều này.\n",
    "\n",
    "    - Bộ dữ liệu được sử dụng trong đồ án này thu thập tại Ấn Độ, nơi có hơn 6000 cơ sở đào tạo kỹ thuật công nghệ với khoảng 2,9 triệu sinh viên đang học tập. Mỗi năm, trung bình có 1,5 triệu sinh viên tốt nghiệp chuyên ngành Công nghệ/Kỹ thuật, tuy nhiên do thiếu kỹ năng cần thiết, ít hơn 20% trong số họ có việc làm phù hợp với chuyên môn của mình. Bộ dữ liệu này không chỉ giúp xây dựng công cụ dự đoán mức lương mà còn cung cấp thông tin về các yếu tố ảnh hưởng đến mức lương và chức danh công việc trên thị trường lao động. Sinh viên sẽ được khám phá những thông tin này trong phạm vi đồ án.\n",
    "- `Chú thích` ý nghĩa cơ bản của những hàm được cài đặt cũng như một vài biến quan trọng được cài đặt trong file code.\n",
    "\n",
    "##### <center> <font style=\"color:red\"> ** Những chú thích, kết quả, phân tích, nhận xét và bàn luận chi tiết của đồ án trên sẽ được triển khai sâu hơn trong file 21127041.PDF **</font><center>"
   ]
  },
  {
   "cell_type": "markdown",
   "metadata": {},
   "source": [
    "# Import Thư Viện\n",
    "|STT|THƯ VIỆN                | CÔNG DỤNG                   |HÀM DÙNG TRONG THƯ VIỆN\n",
    "|---|----------|-------------------------------------------|----|\n",
    "|1|pandas | Để xử lý nhận-trả dữ liệu theo dạng data frame|pandas.DataFrame.sample(frac = 1) ; pandas.read_csv(name of file) ; pandas.iloc[] ; pandas.copy(deep = True) ; pandas.DataFrame(data) ; pandas.corr():|\n",
    "|2|numpy | Thư viện quen thuộc dùng cho ma trận, array,… trong đồ án trên là để append|numpy.mean() ; numpy.absolute()|\n",
    "|3|sklearn|Để có thể sử dụng thuật toán linear regression, k_fold cross validation và để tính MAE|sklearn.linear_model.LinearRegression() ; LinearRegression.fit(X, y) ; LinearRegression.predict(X_test) ; LinearRegression.coef_ ; sklearn.model_selection ; sklearn.model_selection.cross_val_score ; sklearn.metrics.mean_absolute_error|\n",
    "\n",
    "\n"
   ]
  },
  {
   "cell_type": "code",
   "execution_count": 253,
   "metadata": {},
   "outputs": [],
   "source": [
    "import pandas as pd\n",
    "import numpy as np\n",
    "from sklearn.linear_model import LinearRegression\n",
    "from sklearn.model_selection import cross_val_score\n",
    "from sklearn.metrics import mean_absolute_error"
   ]
  },
  {
   "cell_type": "markdown",
   "metadata": {},
   "source": [
    "# Đọc dữ liệu\n",
    "- Đọc dữ liệu bằng pandas\n",
    "- Lấy các đặc trưng X và giá trị mục tiêu y cho các tập huấn luyện (train) và kiểm tra (test)\n"
   ]
  },
  {
   "cell_type": "code",
   "execution_count": 254,
   "metadata": {},
   "outputs": [],
   "source": [
    "# Sinh viên có thể sử dụng các khác nếu cần\n",
    "\n",
    "train = pd.read_csv('train.csv')\n",
    "test = pd.read_csv('test.csv')\n",
    "\n",
    "X_train = train.iloc[:, :11]   \n",
    "y_train = train.iloc[:, -1]     \n",
    "\n",
    "X_test = test.iloc[:, :11]      \n",
    "y_test = test.iloc[:, -1]       \n",
    "\n"
   ]
  },
  {
   "cell_type": "markdown",
   "metadata": {},
   "source": [
    "# Cài đặt hàm"
   ]
  },
  {
   "cell_type": "markdown",
   "metadata": {},
   "source": [
    "##### Hàm bên dưới dùng để tính MAE "
   ]
  },
  {
   "cell_type": "code",
   "execution_count": 255,
   "metadata": {},
   "outputs": [],
   "source": [
    "def calculate_mae(test, y_test_pred): # TÍNH MAE\n",
    "    mae = mean_absolute_error(test.iloc[:, -1], y_test_pred)\n",
    "    return mae"
   ]
  },
  {
   "cell_type": "markdown",
   "metadata": {},
   "source": [
    "# Yêu cầu `1A`: Sử dụng toàn bộ 11 đặc trưng đầu tiên `Gender`, `'10percentage'`, `'12percentage'`, `'CollegeTier'`, `'Degree'`, `'collegeGPA'`, `'CollegeCityTier`, `English` , `Logical`, `Quant`, `Domain` (2 điểm) "
   ]
  },
  {
   "cell_type": "markdown",
   "metadata": {},
   "source": [
    "MỘT VÀI BƯỚC CƠ BẢN ĐỂ GIẢI QUYẾT CÂU `1A` NHƯ SAU:\n",
    "- Đọc dữ liệu huấn luyện từ tệp `'train.csv'`và dữ liệu kiểm tra từ tệp `'test.csv' `bằng cách sử dụng hàm pd.read_csv(). Dữ liệu huấn luyện được lưu trong biến `training_1`, và dữ liệu kiểm tra được lưu trong biến `testing_1`.\n",
    "- Tạo một mô hình hồi quy tuyến tính bằng cách sử dụng lớp `LinearRegression() `từ thư viện scikit-learn.\n",
    "- Sử dụng mô hình đã được huấn luyện để dự đoán kết quả trên dữ liệu kiểm tra. Giá trị dự đoán được lưu trong biến `y_test_pred`.\n",
    "- Tạo một DataFrame có tên prediction để so sánh kết quả dự đoán với giá trị thực tế trên dữ liệu kiểm tra. DataFrame `prediction `được in ra màn hình bằng hàm print(), số làm tròn đến 3 chữ số thập phân bằng phương thức round(3).\n",
    "- Tương tự với `coefficent`"
   ]
  },
  {
   "cell_type": "code",
   "execution_count": 256,
   "metadata": {},
   "outputs": [
    {
     "name": "stdout",
     "output_type": "stream",
     "text": [
      "     data from file   Predicted\n",
      "0            280000  194207.932\n",
      "1            520000  340719.587\n",
      "2            150000  325416.849\n",
      "3            180000  273672.748\n",
      "4            300000  298369.367\n",
      "..              ...         ...\n",
      "745          330000  283138.706\n",
      "746          450000  381114.180\n",
      "747          180000  297490.123\n",
      "748           90000  242061.854\n",
      "749          360000  328403.653\n",
      "\n",
      "[750 rows x 2 columns]\n",
      "            Feature  Coefficient\n",
      "0            Gender   -23183.330\n",
      "1      10percentage      702.767\n",
      "2      12percentage     1259.019\n",
      "3       CollegeTier   -99570.608\n",
      "4            Degree    18369.962\n",
      "5        collegeGPA     1297.532\n",
      "6   CollegeCityTier    -8836.727\n",
      "7           English      141.760\n",
      "8           Logical      145.742\n",
      "9             Quant      114.643\n",
      "10           Domain    34955.750\n",
      "\n",
      "Intercept: 49248.09\n"
     ]
    }
   ],
   "source": [
    "# Cài đặt các hàm cần thiết ở đây\n",
    "# Phần code cho yêu cầu 1a\n",
    "\n",
    "#đọc 2 cái file\n",
    "testing_1 = pd.read_csv('test.csv')\n",
    "training_1 = pd.read_csv('train.csv')\n",
    "\n",
    "\n",
    "#dùng linearregression và lấy 11 tính cách đầu của bộ dữ liệu\n",
    "lr1 = LinearRegression(fit_intercept=True).fit(training_1.iloc[:, :11], training_1.iloc[:, -1])\n",
    "\n",
    "y_test_pred = lr1.predict(testing_1.iloc[:, :11])\n",
    "predic = pd.DataFrame({'data from file': testing_1.iloc[:, -1], 'Predicted': y_test_pred})\n",
    "print(predic.round(3))\n",
    "coef = pd.DataFrame({'Feature': training_1.iloc[:, :11].columns, 'Coefficient': lr1.coef_})\n",
    "print(coef.round(3))\n",
    "print()\n",
    "print(\"Intercept:\", round(lr1.intercept_,3))"
   ]
  },
  {
   "cell_type": "markdown",
   "metadata": {},
   "source": [
    "### `Gọi hàm MAE (tự cài đặt hoặc từ thư viện) trên tập kiểm tra`"
   ]
  },
  {
   "cell_type": "code",
   "execution_count": 257,
   "metadata": {},
   "outputs": [
    {
     "name": "stdout",
     "output_type": "stream",
     "text": [
      "MAE:  105052.53\n"
     ]
    }
   ],
   "source": [
    "mae = calculate_mae(test, y_test_pred)\n",
    "print(\"MAE: \", mae.round(3))"
   ]
  },
  {
   "cell_type": "markdown",
   "metadata": {},
   "source": [
    "`Công thức hồi quy (phần trọng số làm tròn đến 3 chữ số thập phân)`\n",
    "\n",
    " `Salary`= 49248.09 + (-23183.330)x`Gender `+ 702.767x`10percentage `+ 1259.019x`12percentage `</br> \n",
    "+(-99570.608)x`CollegeTier `+18369.962x`Degree `+1297.532x`collegeGPA `</br>\n",
    "+(-8836.727)x`CollegeCityTier `+ 141.760x`English `</br>\n",
    "+145.742x`Logical `+ 114.643x`Quant `+ 34955.750x`Domain` "
   ]
  },
  {
   "cell_type": "markdown",
   "metadata": {},
   "source": [
    "# Yêu cầu `1b`: Xây dựng mô hình sử dụng duy nhất 1 đặc trưng tính cách với các đặc trưng tính cách gồm `conscientiousness`, `agreeableness`, `extraversion`, `nueroticism`, `openess_to_experience`, tìm mô hình cho kết quả tốt nhất (1 điểm)"
   ]
  },
  {
   "cell_type": "markdown",
   "metadata": {},
   "source": [
    "Lưu ý: khi sử dụng cross-validation, sinh viên cần xáo trộn dữ liệu 1 lần duy nhất và thực hiện trên toàn bộ đặc trưng"
   ]
  },
  {
   "cell_type": "markdown",
   "metadata": {},
   "source": [
    "`Các bước làm gần như tương tự ở câu A, tuy nhiên bộ dữ liệu đặc trung lúc này là 5 tính cách kế cuối của bộ dữu liệu`\n",
    "\n",
    "- Đọc dữ liệu huấn luyện từ tệp 'train.csv' và lưu vào biến train_2. Sau đó, dữ liệu huấn luyện được trộn ngẫu nhiên bằng phương thức sample(frac=1).\n",
    "- Khởi tạo một đối tượng `LinearRegression `trong biến `reg`.\n",
    "- Chọn 5 đặc trưng kế đặc trưng cuối cùng trong số 34 cột của dữ liệu huấn luyện và lưu vào danh sách `fea_title`.\n",
    "- Với mỗi đặc trưng trong `fea_title`, thực hiện cross-validation bằng cách sử dụng hàm cross_val_score để tính toán điểm số sử dụng độ đo 'neg_mean_absolute_error' trên mô hình reg và các đặc trưng tương ứng. Kết quả cross-validation được lưu trong danh sách `scores`.\n",
    "- Tính trung bình giá trị tuyệt đối của các điểm số cross-validation và lưu vào danh sách MAE.\n",
    "- Tìm chỉ số của đặc trưng có giá trị MAE nhỏ nhất bằng hàm np.argmin(MAE) và lưu vào biến `best_index`.\n",
    "- In ra màn hình đặc trưng có giá trị MAE nhỏ nhất và giá trị MAE tương ứng, số làm tròn đến 3 chữ số phần thập phân."
   ]
  },
  {
   "cell_type": "code",
   "execution_count": 258,
   "metadata": {},
   "outputs": [
    {
     "name": "stdout",
     "output_type": "stream",
     "text": [
      "                 Feature  Average MAE\n",
      "0      conscientiousness   124041.291\n",
      "1          agreeableness   123518.689\n",
      "2           extraversion   123694.831\n",
      "3            nueroticism   123555.915\n",
      "4  openess_to_experience   123770.125\n",
      "\n",
      "Minimum of average MAE is: agreeableness - 123518.689\n"
     ]
    }
   ],
   "source": [
    "# Phần code cho yêu cầu 1b\n",
    "# Tìm ra đặc trưng tốt nhất\n",
    "# In ra các kết quả cross-validation như yêu cầu\n",
    "\n",
    "training_2 = pd.read_csv('train.csv')\n",
    "training_2 = training_2.sample(frac=1)\n",
    "y_df = training_2.iloc[:, -1]\n",
    "\n",
    "reg = LinearRegression()\n",
    "\n",
    "fea_title = training_2.columns[-6:-1]  # Lấy 5 tính cách kế cuối của 34 cột\n",
    "feature = [training_2[name].values.reshape(-1, 1) for name in fea_title]\n",
    "\n",
    "cross = []\n",
    "scores = []\n",
    "MAE = []\n",
    "\n",
    "for i in range(len(feature)):\n",
    "    scores.append(cross_val_score(reg, feature[i], y_df, scoring=\"neg_mean_absolute_error\", cv=5))\n",
    "\n",
    "\n",
    "for i in range(len(scores)):\n",
    "    MAE.append(np.absolute(scores[i]).mean())\n",
    "    cross.append([fea_title[i], round(MAE[i], 3)])  # Làm tròn số thành 3 chữ số phần thập phân\n",
    "\n",
    "test = pd.DataFrame(cross, columns=['Feature', 'Average MAE'])\n",
    "print(test)\n",
    "\n",
    "best_index = np.argmin(MAE)\n",
    "print()\n",
    "print(\"Minimum of average MAE is:\", fea_title[best_index],'-',  round(MAE[best_index], 3))  "
   ]
  },
  {
   "cell_type": "markdown",
   "metadata": {},
   "source": [
    "#### `Huấn luyện lại mô hình best_personality_feature_model với đặc trưng tốt nhất trên toàn bộ tập huấn luyện`"
   ]
  },
  {
   "cell_type": "code",
   "execution_count": 259,
   "metadata": {},
   "outputs": [
    {
     "name": "stdout",
     "output_type": "stream",
     "text": [
      "     Data in file   Predicted\n",
      "0          280000  308026.917\n",
      "1          520000  303086.416\n",
      "2          150000  320378.169\n",
      "3          180000  303127.587\n",
      "4          300000  289945.000\n",
      "..            ...         ...\n",
      "745        330000  305764.104\n",
      "746        450000  294438.956\n",
      "747        180000  329492.760\n",
      "748         90000  315437.668\n",
      "749        360000  310497.167\n",
      "\n",
      "[750 rows x 2 columns]\n",
      "         Feature  Coefficient\n",
      "0  agreeableness    15834.939\n",
      "\n",
      "Intercept: 305037.28\n"
     ]
    }
   ],
   "source": [
    "testing_2f = pd.read_csv('test.csv')\n",
    "\n",
    "training_2f = pd.read_csv('train.csv')\n",
    "\n",
    "X_k_test = testing_2f[fea_title[best_index]].values.reshape(-1, 1)\n",
    "y_k_test = testing_2f.iloc[:, -1]\n",
    "\n",
    "X_k_train = training_2f[fea_title[best_index]].values.reshape(-1, 1)\n",
    "y_k_train = training_2f.iloc[:, -1]\n",
    "\n",
    "\n",
    "reg2 = LinearRegression(fit_intercept=True).fit(X_k_train, y_k_train)\n",
    "\n",
    "y_k_test_pred = reg2.predict(X_k_test)\n",
    "\n",
    "k_predic = pd.DataFrame({'Data in file': y_k_test, 'Predicted': y_k_test_pred})\n",
    "print(k_predic.round(3))\n",
    "\n",
    "k_coef = pd.DataFrame({'Feature': fea_title[best_index], 'Coefficient': reg2.coef_})\n",
    "print(k_coef.round(3))\n",
    "print()\n",
    "print(\"Intercept:\", round(reg2.intercept_,3))\n"
   ]
  },
  {
   "cell_type": "markdown",
   "metadata": {},
   "source": [
    "#### `Gọi hàm MAE (tự cài đặt hoặc từ thư viện) trên tập kiểm tra với mô hình best_personality_feature_model`"
   ]
  },
  {
   "cell_type": "code",
   "execution_count": 260,
   "metadata": {},
   "outputs": [
    {
     "name": "stdout",
     "output_type": "stream",
     "text": [
      "MAE:  118153.163\n"
     ]
    }
   ],
   "source": [
    "print(\"MAE: \", round(mean_absolute_error(y_k_test, y_k_test_pred),3))"
   ]
  },
  {
   "cell_type": "markdown",
   "metadata": {},
   "source": [
    "`Công thức hồi quy (phần trọng số làm tròn đến 3 chữ số thập phân)`\n",
    "\n",
    "$$\\text{Salary} = -16021.494 * nueroticism + 304647.553 $$"
   ]
  },
  {
   "cell_type": "markdown",
   "metadata": {},
   "source": [
    "# Yêu cầu `1C`: Xây dựng mô hình sử dụng duy nhất 1 đặc trưng `English`, `Logical`, `Quant`, tìm mô hình cho kết quả tốt nhất (1 điểm)"
   ]
  },
  {
   "cell_type": "markdown",
   "metadata": {},
   "source": [
    "Lưu ý: khi sử dụng cross-validation, sinh viên cần xáo trộn dữ liệu 1 lần duy nhất và thực hiện trên toàn bộ đặc trưng"
   ]
  },
  {
   "cell_type": "markdown",
   "metadata": {},
   "source": [
    "`Các bước làm gần như tương tự ở câu B, tuy nhiên bộ dữ liệu đặc trung lúc này là các tính cách ở 3 vị trí từ 7 đến 9 của của bộ dữu liệu`"
   ]
  },
  {
   "cell_type": "code",
   "execution_count": 261,
   "metadata": {},
   "outputs": [
    {
     "name": "stdout",
     "output_type": "stream",
     "text": [
      "   Feature  Average MAE\n",
      "0  English   120689.929\n",
      "1  Logical   119885.620\n",
      "2    Quant   117198.643\n",
      "\n",
      "Min average MAE is: Quant ( 117198.643 )\n"
     ]
    }
   ],
   "source": [
    "# Phần code cho yêu cầu 1c\n",
    "# Tìm ra đặc trưng tốt nhất\n",
    "# In ra các kết quả cross-validation như yêu cầu\n",
    "\n",
    "training_2 = pd.read_csv('train.csv')\n",
    "training_2 = training_2.sample(frac=1)\n",
    "y_df = training_2.iloc[:, -1]\n",
    "reg = LinearRegression()\n",
    "fea_title = training_2.columns[7:10]  # Lấy từ 7 đến 9\n",
    "feature = [training_2[name].values.reshape(-1, 1) for name in fea_title]\n",
    "cross = []\n",
    "scores = []\n",
    "MAE = []\n",
    "\n",
    "for i in range(len(feature)):\n",
    "    scores.append(cross_val_score(reg, feature[i], y_df, scoring=\"neg_mean_absolute_error\", cv=5))\n",
    "    \n",
    "# Calculate MAE and append to an array\n",
    "for i in range(len(scores)):\n",
    "    MAE.append(np.absolute(scores[i]).mean())\n",
    "    cross.append([fea_title[i], round(MAE[i], 3)])  # Làm tròn số làm 3 chữ số phần thập phân\n",
    "test = pd.DataFrame(cross, columns=['Feature', 'Average MAE'])\n",
    "print(test)\n",
    "print()\n",
    "best_index = np.argmin(MAE)\n",
    "print(\"Min average MAE is:\", fea_title[best_index], \"(\", round(MAE[best_index], 3), \")\")  # Làm tròn số làm 3 chữ số phần thập phân \n"
   ]
  },
  {
   "cell_type": "markdown",
   "metadata": {},
   "source": [
    "`Huấn luyện lại mô hình best_personality_feature_model với đặc trưng tốt nhất trên toàn bộ tập huấn luyện`"
   ]
  },
  {
   "cell_type": "code",
   "execution_count": 262,
   "metadata": {},
   "outputs": [
    {
     "name": "stdout",
     "output_type": "stream",
     "text": [
      "     Data in file   Predicted\n",
      "0          280000  197063.009\n",
      "1          520000  359358.093\n",
      "2          150000  337226.945\n",
      "3          180000  270833.502\n",
      "4          300000  302185.961\n",
      "..            ...         ...\n",
      "745        330000  302185.961\n",
      "746        450000  326161.371\n",
      "747        180000  245013.829\n",
      "748         90000  322472.847\n",
      "749        360000  311407.273\n",
      "\n",
      "[750 rows x 2 columns]\n",
      "  Feature  Coefficient\n",
      "0   Quant      368.852\n",
      "\n",
      "Intercept: 117759.729\n"
     ]
    }
   ],
   "source": [
    "training_2f = pd.read_csv('train.csv')\n",
    "testing_2f = pd.read_csv('test.csv')\n",
    "\n",
    "X_k_train = training_2f[fea_title[best_index]].values.reshape(-1, 1)\n",
    "y_k_train = training_2f.iloc[:, -1]\n",
    "\n",
    "X_k_test = testing_2f[fea_title[best_index]].values.reshape(-1, 1)\n",
    "y_k_test = testing_2f.iloc[:, -1]\n",
    "\n",
    "reg2 = LinearRegression(fit_intercept=True).fit(X_k_train, y_k_train)\n",
    "\n",
    "y_k_test_pred = reg2.predict(X_k_test)\n",
    "\n",
    "k_predic = pd.DataFrame({'Data in file': y_k_test, 'Predicted': y_k_test_pred})\n",
    "print(k_predic.round(3))\n",
    "\n",
    "k_coef = pd.DataFrame({'Feature': fea_title[best_index], 'Coefficient': reg2.coef_})\n",
    "print(k_coef.round(3))\n",
    "print()\n",
    "print(\"Intercept:\", round(reg2.intercept_,3))\n"
   ]
  },
  {
   "cell_type": "markdown",
   "metadata": {},
   "source": [
    "`Gọi hàm MAE (tự cài đặt hoặc từ thư viện) trên tập kiểm tra với mô hình best_personality_feature_model`"
   ]
  },
  {
   "cell_type": "code",
   "execution_count": 263,
   "metadata": {},
   "outputs": [
    {
     "name": "stdout",
     "output_type": "stream",
     "text": [
      "MAE:  108814.06\n"
     ]
    }
   ],
   "source": [
    "print(\"MAE: \", round(mean_absolute_error(y_k_test, y_k_test_pred),3))"
   ]
  },
  {
   "cell_type": "markdown",
   "metadata": {},
   "source": [
    "Công thức hồi quy (phần trọng số làm tròn đến 3 chữ số thập phân, ví dụ 0.012345 $\\to$ 0.012)\n",
    "\n",
    "#### Salary = 368.852 * `Quant ` + 117759.729"
   ]
  },
  {
   "cell_type": "markdown",
   "metadata": {},
   "source": [
    "# Yêu cầu `1D`: Sinh viên tự xây dựng mô hình, tìm mô hình cho kết quả tốt nhất (3 điểm)"
   ]
  },
  {
   "cell_type": "markdown",
   "metadata": {},
   "source": [
    "Lưu ý: khi sử dụng cross-validation, sinh viên cần xáo trộn dữ liệu 1 lần duy nhất và thực hiện trên toàn bộ $m$ mô hình mà sinh viên thiết kế"
   ]
  },
  {
   "cell_type": "markdown",
   "metadata": {},
   "source": [
    "## Tìm mô hình"
   ]
  },
  {
   "cell_type": "markdown",
   "metadata": {},
   "source": [
    "#### Đầu tiên, ta sử dụng hàm `corr()` của pandas để tính hệ số tương quan giữa của từng cặp đôi một trong 23 đặc trưng để xem thử độ tương quan như thế nào."
   ]
  },
  {
   "cell_type": "code",
   "execution_count": 264,
   "metadata": {},
   "outputs": [
    {
     "name": "stdout",
     "output_type": "stream",
     "text": [
      "                         Gender  10percentage  12percentage  CollegeTier   \n",
      "Gender                 1.000000      0.165208      0.131372     0.028943  \\\n",
      "10percentage           0.165208      1.000000      0.644518    -0.135469   \n",
      "12percentage           0.131372      0.644518      1.000000    -0.092920   \n",
      "CollegeTier            0.028943     -0.135469     -0.092920     1.000000   \n",
      "Degree                -0.007080     -0.255081     -0.227924    -0.014755   \n",
      "collegeGPA             0.153008      0.311057      0.340745    -0.091280   \n",
      "CollegeCityTier        0.044938      0.106144      0.120529    -0.093067   \n",
      "English               -0.020830      0.335863      0.193790    -0.182399   \n",
      "Logical               -0.000189      0.309735      0.240047    -0.189068   \n",
      "Quant                 -0.104069      0.326948      0.316088    -0.240973   \n",
      "Domain                 0.001947      0.079001      0.069002    -0.037476   \n",
      "ComputerProgramming    0.021369      0.041760      0.076158    -0.047969   \n",
      "ElectronicsAndSemicon -0.019304      0.088068      0.123903    -0.026150   \n",
      "ComputerScience       -0.031236     -0.024749     -0.050739    -0.020929   \n",
      "MechanicalEngg        -0.083987      0.060161      0.042870    -0.015850   \n",
      "ElectricalEngg        -0.024408      0.068455      0.085593     0.012326   \n",
      "TelecomEngg            0.028421      0.060164      0.057063    -0.010562   \n",
      "CivilEngg             -0.013109      0.009898      0.000678     0.007080   \n",
      "conscientiousness      0.075360      0.050050      0.044066     0.036467   \n",
      "agreeableness          0.087639      0.115473      0.093829    -0.036447   \n",
      "extraversion           0.006984     -0.022176     -0.031926    -0.006246   \n",
      "nueroticism            0.011918     -0.121777     -0.083520     0.038786   \n",
      "openess_to_experience  0.084511      0.015292     -0.007928    -0.019414   \n",
      "Salary                -0.036183      0.155174      0.149531    -0.174824   \n",
      "\n",
      "                         Degree  collegeGPA  CollegeCityTier   English   \n",
      "Gender                -0.007080    0.153008         0.044938 -0.020830  \\\n",
      "10percentage          -0.255081    0.311057         0.106144  0.335863   \n",
      "12percentage          -0.227924    0.340745         0.120529  0.193790   \n",
      "CollegeTier           -0.014755   -0.091280        -0.093067 -0.182399   \n",
      "Degree                 1.000000    0.080067        -0.001511 -0.145472   \n",
      "collegeGPA             0.080067    1.000000         0.030261  0.099539   \n",
      "CollegeCityTier       -0.001511    0.030261         1.000000  0.028303   \n",
      "English               -0.145472    0.099539         0.028303  1.000000   \n",
      "Logical               -0.098722    0.200165        -0.006065  0.431918   \n",
      "Quant                 -0.137183    0.221253        -0.019965  0.368248   \n",
      "Domain                 0.010125    0.083268         0.013744  0.106778   \n",
      "ComputerProgramming    0.110226    0.139499         0.043879  0.121789   \n",
      "ElectronicsAndSemicon -0.133786    0.026659         0.047274 -0.000923   \n",
      "ComputerScience       -0.015129   -0.013137        -0.006909  0.086161   \n",
      "MechanicalEngg        -0.061272   -0.033850        -0.046042 -0.008649   \n",
      "ElectricalEngg        -0.057312    0.055134         0.016535  0.029723   \n",
      "TelecomEngg           -0.079172   -0.000657         0.077937 -0.018019   \n",
      "CivilEngg             -0.014273   -0.035964        -0.034213 -0.028461   \n",
      "conscientiousness      0.003147    0.048044         0.012093  0.024610   \n",
      "agreeableness         -0.033432    0.053377         0.009984  0.174948   \n",
      "extraversion           0.009707   -0.054623         0.008211  0.003313   \n",
      "nueroticism            0.021054   -0.074752         0.033827 -0.147243   \n",
      "openess_to_experience  0.014351    0.005078         0.015314  0.061630   \n",
      "Salary                -0.017602    0.122469         0.004575  0.169293   \n",
      "\n",
      "                        Logical     Quant  ...  MechanicalEngg   \n",
      "Gender                -0.000189 -0.104069  ...       -0.083987  \\\n",
      "10percentage           0.309735  0.326948  ...        0.060161   \n",
      "12percentage           0.240047  0.316088  ...        0.042870   \n",
      "CollegeTier           -0.189068 -0.240973  ...       -0.015850   \n",
      "Degree                -0.098722 -0.137183  ...       -0.061272   \n",
      "collegeGPA             0.200165  0.221253  ...       -0.033850   \n",
      "CollegeCityTier       -0.006065 -0.019965  ...       -0.046042   \n",
      "English                0.431918  0.368248  ...       -0.008649   \n",
      "Logical                1.000000  0.502061  ...       -0.006461   \n",
      "Quant                  0.502061  1.000000  ...        0.002708   \n",
      "Domain                 0.202380  0.224860  ...        0.053179   \n",
      "ComputerProgramming    0.191525  0.149635  ...       -0.299781   \n",
      "ElectronicsAndSemicon -0.005432  0.109907  ...       -0.101312   \n",
      "ComputerScience        0.053090 -0.016059  ...       -0.128077   \n",
      "MechanicalEngg        -0.006461  0.002708  ...        1.000000   \n",
      "ElectricalEngg         0.007168  0.026210  ...       -0.046272   \n",
      "TelecomEngg           -0.028632  0.026092  ...       -0.064349   \n",
      "CivilEngg             -0.038780 -0.030404  ...        0.104176   \n",
      "conscientiousness      0.007225 -0.018171  ...        0.006010   \n",
      "agreeableness          0.130697  0.077396  ...       -0.003763   \n",
      "extraversion          -0.028864 -0.065295  ...       -0.014642   \n",
      "nueroticism           -0.193569 -0.145108  ...        0.048024   \n",
      "openess_to_experience  0.018907 -0.009126  ...       -0.005465   \n",
      "Salary                 0.188416  0.205358  ...        0.028854   \n",
      "\n",
      "                       ElectricalEngg  TelecomEngg  CivilEngg   \n",
      "Gender                      -0.024408     0.028421  -0.013109  \\\n",
      "10percentage                 0.068455     0.060164   0.009898   \n",
      "12percentage                 0.085593     0.057063   0.000678   \n",
      "CollegeTier                  0.012326    -0.010562   0.007080   \n",
      "Degree                      -0.057312    -0.079172  -0.014273   \n",
      "collegeGPA                   0.055134    -0.000657  -0.035964   \n",
      "CollegeCityTier              0.016535     0.077937  -0.034213   \n",
      "English                      0.029723    -0.018019  -0.028461   \n",
      "Logical                      0.007168    -0.028632  -0.038780   \n",
      "Quant                        0.026210     0.026092  -0.030404   \n",
      "Domain                       0.042712     0.010813   0.012037   \n",
      "ComputerProgramming         -0.129097    -0.263624  -0.090141   \n",
      "ElectronicsAndSemicon        0.031313     0.382743   0.024320   \n",
      "ComputerScience             -0.087721    -0.157011  -0.050341   \n",
      "MechanicalEngg              -0.046272    -0.064349   0.104176   \n",
      "ElectricalEngg               1.000000    -0.041153  -0.018187   \n",
      "TelecomEngg                 -0.041153     1.000000  -0.029350   \n",
      "CivilEngg                   -0.018187    -0.029350   1.000000   \n",
      "conscientiousness            0.021002    -0.019231  -0.016809   \n",
      "agreeableness               -0.036537    -0.042123  -0.028675   \n",
      "extraversion                -0.012484    -0.063950  -0.031945   \n",
      "nueroticism                 -0.033828     0.046946   0.043489   \n",
      "openess_to_experience       -0.032293    -0.011011  -0.030626   \n",
      "Salary                      -0.041217    -0.040415   0.016150   \n",
      "\n",
      "                       conscientiousness  agreeableness  extraversion   \n",
      "Gender                          0.075360       0.087639      0.006984  \\\n",
      "10percentage                    0.050050       0.115473     -0.022176   \n",
      "12percentage                    0.044066       0.093829     -0.031926   \n",
      "CollegeTier                     0.036467      -0.036447     -0.006246   \n",
      "Degree                          0.003147      -0.033432      0.009707   \n",
      "collegeGPA                      0.048044       0.053377     -0.054623   \n",
      "CollegeCityTier                 0.012093       0.009984      0.008211   \n",
      "English                         0.024610       0.174948      0.003313   \n",
      "Logical                         0.007225       0.130697     -0.028864   \n",
      "Quant                          -0.018171       0.077396     -0.065295   \n",
      "Domain                         -0.055640       0.040502     -0.030174   \n",
      "ComputerProgramming            -0.004566       0.071997      0.053795   \n",
      "ElectronicsAndSemicon          -0.022056      -0.023630     -0.062544   \n",
      "ComputerScience                 0.059120       0.025604      0.076109   \n",
      "MechanicalEngg                  0.006010      -0.003763     -0.014642   \n",
      "ElectricalEngg                  0.021002      -0.036537     -0.012484   \n",
      "TelecomEngg                    -0.019231      -0.042123     -0.063950   \n",
      "CivilEngg                      -0.016809      -0.028675     -0.031945   \n",
      "conscientiousness               1.000000       0.492499      0.354234   \n",
      "agreeableness                   0.492499       1.000000      0.480572   \n",
      "extraversion                    0.354234       0.480572      1.000000   \n",
      "nueroticism                    -0.308616      -0.197990     -0.085622   \n",
      "openess_to_experience           0.415984       0.605813      0.468572   \n",
      "Salary                         -0.057699       0.068623     -0.002661   \n",
      "\n",
      "                       nueroticism  openess_to_experience    Salary  \n",
      "Gender                    0.011918               0.084511 -0.036183  \n",
      "10percentage             -0.121777               0.015292  0.155174  \n",
      "12percentage             -0.083520              -0.007928  0.149531  \n",
      "CollegeTier               0.038786              -0.019414 -0.174824  \n",
      "Degree                    0.021054               0.014351 -0.017602  \n",
      "collegeGPA               -0.074752               0.005078  0.122469  \n",
      "CollegeCityTier           0.033827               0.015314  0.004575  \n",
      "English                  -0.147243               0.061630  0.169293  \n",
      "Logical                  -0.193569               0.018907  0.188416  \n",
      "Quant                    -0.145108              -0.009126  0.205358  \n",
      "Domain                   -0.041850              -0.015629  0.122022  \n",
      "ComputerProgramming      -0.104625               0.059650  0.125866  \n",
      "ElectronicsAndSemicon     0.003814              -0.029846 -0.009292  \n",
      "ComputerScience          -0.109579               0.037363 -0.095507  \n",
      "MechanicalEngg            0.048024              -0.005465  0.028854  \n",
      "ElectricalEngg           -0.033828              -0.032293 -0.041217  \n",
      "TelecomEngg               0.046946              -0.011011 -0.040415  \n",
      "CivilEngg                 0.043489              -0.030626  0.016150  \n",
      "conscientiousness        -0.308616               0.415984 -0.057699  \n",
      "agreeableness            -0.197990               0.605813  0.068623  \n",
      "extraversion             -0.085622               0.468572 -0.002661  \n",
      "nueroticism               1.000000              -0.051393 -0.073401  \n",
      "openess_to_experience    -0.051393               1.000000 -0.007814  \n",
      "Salary                   -0.073401              -0.007814  1.000000  \n",
      "\n",
      "[24 rows x 24 columns]\n"
     ]
    }
   ],
   "source": [
    "# Phần code cho yêu cầu 1d\n",
    "# Tìm ra mô hình tốt nhất (tự thiết kế bởi sinh viên)\n",
    "# In ra các kết quả cross-validation như yêu cầu\n",
    "# Trình bày các phần tìm ra mô hình\n",
    "train_corr = pd.read_csv('train.csv')\n",
    "correlations = train_corr.corr()\n",
    "print(correlations)"
   ]
  },
  {
   "cell_type": "markdown",
   "metadata": {},
   "source": [
    " #### Tiếp theo, ta lấy ra hệ số tương quan giữa các đặc trưng với đặc trưng `Salary`."
   ]
  },
  {
   "cell_type": "code",
   "execution_count": 265,
   "metadata": {},
   "outputs": [
    {
     "name": "stdout",
     "output_type": "stream",
     "text": [
      "Gender                  -0.036183\n",
      "10percentage             0.155174\n",
      "12percentage             0.149531\n",
      "CollegeTier             -0.174824\n",
      "Degree                  -0.017602\n",
      "collegeGPA               0.122469\n",
      "CollegeCityTier          0.004575\n",
      "English                  0.169293\n",
      "Logical                  0.188416\n",
      "Quant                    0.205358\n",
      "Domain                   0.122022\n",
      "ComputerProgramming      0.125866\n",
      "ElectronicsAndSemicon   -0.009292\n",
      "ComputerScience         -0.095507\n",
      "MechanicalEngg           0.028854\n",
      "ElectricalEngg          -0.041217\n",
      "TelecomEngg             -0.040415\n",
      "CivilEngg                0.016150\n",
      "conscientiousness       -0.057699\n",
      "agreeableness            0.068623\n",
      "extraversion            -0.002661\n",
      "nueroticism             -0.073401\n",
      "openess_to_experience   -0.007814\n",
      "Name: Salary, dtype: float64\n"
     ]
    }
   ],
   "source": [
    "correlations_2 = train_corr.corr()['Salary'].drop('Salary')\n",
    "print(correlations_2)\n"
   ]
  },
  {
   "cell_type": "markdown",
   "metadata": {},
   "source": [
    "## Thử nghiệm, so sánh các mô hình"
   ]
  },
  {
   "cell_type": "markdown",
   "metadata": {},
   "source": [
    "Để so sánh việc chuẩn hóa các đặc trưng ở phần code chính là tốt hay xấu, ta cần một kết quả riêng với mô hình ."
   ]
  },
  {
   "cell_type": "code",
   "execution_count": 266,
   "metadata": {},
   "outputs": [],
   "source": [
    "train_3 = pd.read_csv('train.csv')\n",
    "train_3 = train_3.sample(frac=1)\n",
    "\n",
    "model = ['Use 23 features', 'Use 16 features', 'Use 10 features']\n",
    "AMAE = []"
   ]
  },
  {
   "cell_type": "markdown",
   "metadata": {},
   "source": [
    "### Sử dụng 5-Fold Cross Validation để test với tất cả 23 đặc trưng "
   ]
  },
  {
   "cell_type": "code",
   "execution_count": 267,
   "metadata": {},
   "outputs": [
    {
     "name": "stdout",
     "output_type": "stream",
     "text": [
      "Average MAE:  111856.239\n"
     ]
    }
   ],
   "source": [
    "# 1st model\n",
    "train_test_1 = train_3.copy()\n",
    "feature = ['Gender', '10percentage', '12percentage', 'CollegeTier', 'Degree', \n",
    "           'collegeGPA', 'CollegeCityTier', 'English', 'Logical', 'Quant', \n",
    "           'Domain','ComputerProgramming','ElectronicsAndSemicon',\n",
    "           'ComputerScience','MechanicalEngg','ElectricalEngg','TelecomEngg',\n",
    "           'CivilEngg','conscientiousness','agreeableness',\n",
    "           'extraversion','nueroticism','openess_to_experience']\n",
    "X_test_1 = train_test_1[feature]\n",
    "y_test_1 = train_test_1.iloc[:, -1]\n",
    "\n",
    "rg_test_1 = LinearRegression()\n",
    "scores_test_1 = cross_val_score(rg_test_1, X_test_1, y_test_1, cv=5, \n",
    "                                scoring='neg_mean_absolute_error')\n",
    "print(\"Average MAE: \", round(np.absolute(scores_test_1).mean(),3))\n",
    "AMAE.append(np.absolute(scores_test_1).mean())"
   ]
  },
  {
   "cell_type": "markdown",
   "metadata": {},
   "source": [
    "### Sử dụng 5-Fold Cross Validation để test với 16 đặc trưng: `Gender`,`10percentage`, `12percentage` ,  `collegeGPA`, `English`, `Logical`, `Quant`, `Domain`, `ComputerProgramming`, `ComputerScience`, `MechanicalEngg`, `ElectricalEngg`, `TelecomEngg`, `conscientiousness`, `agreeableness`, `nueroticism` "
   ]
  },
  {
   "cell_type": "code",
   "execution_count": 268,
   "metadata": {},
   "outputs": [
    {
     "name": "stdout",
     "output_type": "stream",
     "text": [
      "Average MAE:  111191.237\n"
     ]
    }
   ],
   "source": [
    "train_test_2 = train_3.copy()\n",
    "feature = ['Gender','10percentage', '12percentage', 'collegeGPA',\n",
    "           'English', 'Logical', 'Quant', 'Domain','ComputerProgramming',\n",
    "           'ComputerScience','MechanicalEngg','ElectricalEngg','TelecomEngg',\n",
    "           'conscientiousness','agreeableness','nueroticism']\n",
    "X_test_2 = train_test_2[feature]\n",
    "y_test_2 = train_test_2.iloc[:, -1]\n",
    "\n",
    "rg_test_2 = LinearRegression()\n",
    "scores_test_2 = cross_val_score(rg_test_2, X_test_2, y_test_2, cv=5, \n",
    "                                scoring='neg_mean_absolute_error')\n",
    "print(\"Average MAE: \", round(np.absolute(scores_test_2).mean(),3))\n",
    "AMAE.append(np.absolute(scores_test_2).mean())"
   ]
  },
  {
   "cell_type": "markdown",
   "metadata": {},
   "source": [
    "### Sử dụng 5-Fold Cross Validation để test với 10 đặc trưng: `Gender`,`10percentage`, `12percentage` , `CollegeTier`, `collegeGPA`, `English`, `Logical`, `Quant`, `Domain`, `ComputerProgramming`, `ComputerScience` "
   ]
  },
  {
   "cell_type": "code",
   "execution_count": 269,
   "metadata": {},
   "outputs": [
    {
     "name": "stdout",
     "output_type": "stream",
     "text": [
      "Average MAE:  111452.183\n"
     ]
    }
   ],
   "source": [
    "train_test_3 = train_3.copy()\n",
    "feature = ['Gender','10percentage', '12percentage', 'CollegeTier',  \n",
    "           'collegeGPA', 'English', 'Logical', 'Quant', \n",
    "           'Domain','ComputerProgramming','ComputerScience']\n",
    "X_test_3 = train_test_3[feature]\n",
    "y_test_3 = train_test_3.iloc[:, -1]\n",
    "\n",
    "rg_test_3 = LinearRegression()\n",
    "scores_test_3 = cross_val_score(rg_test_3, X_test_3, y_test_3, cv=5, \n",
    "                                scoring='neg_mean_absolute_error')\n",
    "print(\"Average MAE: \", round(np.absolute(scores_test_3).mean(),3))\n",
    "AMAE.append(np.absolute(scores_test_3).mean())\n"
   ]
  },
  {
   "cell_type": "markdown",
   "metadata": {},
   "source": [
    "### So sánh các mô hình để chọn ra mô hình tối ưu nhất"
   ]
  },
  {
   "cell_type": "code",
   "execution_count": 270,
   "metadata": {},
   "outputs": [
    {
     "name": "stdout",
     "output_type": "stream",
     "text": [
      "             Model  Average MAE\n",
      "0  Use 23 features   111856.239\n",
      "1  Use 16 features   111191.237\n",
      "2  Use 10 features   111452.183\n"
     ]
    }
   ],
   "source": [
    "Average_MAE = pd.DataFrame({'Model': model, 'Average MAE': AMAE})\n",
    "print(round(Average_MAE,3))"
   ]
  },
  {
   "cell_type": "markdown",
   "metadata": {},
   "source": [
    "### Chọn mô hình tối ưu nhất và huấn luyện lại mô hình my_best_model trên toàn bộ tập huấn luyện\n"
   ]
  },
  {
   "cell_type": "code",
   "execution_count": 271,
   "metadata": {},
   "outputs": [
    {
     "name": "stdout",
     "output_type": "stream",
     "text": [
      "     Actual      Predicted\n",
      "0    280000  263567.962314\n",
      "1    520000  356766.935756\n",
      "2    150000  323743.600400\n",
      "3    180000  217610.444880\n",
      "4    300000  361556.869933\n",
      "..      ...            ...\n",
      "745  330000  318457.798212\n",
      "746  450000  367203.243225\n",
      "747  180000  248929.961391\n",
      "748   90000  306346.947633\n",
      "749  360000  332948.207394\n",
      "\n",
      "[750 rows x 2 columns]\n",
      "            Coefficient  Predicted\n",
      "0                Gender -24909.837\n",
      "1          10percentage    702.390\n",
      "2          12percentage   1039.326\n",
      "3           CollegeTier -97057.418\n",
      "4            collegeGPA   1326.148\n",
      "5               English    138.267\n",
      "6               Logical    108.238\n",
      "7                 Quant     91.541\n",
      "8                Domain  25549.124\n",
      "9   ComputerProgramming     90.459\n",
      "10      ComputerScience   -172.478\n",
      "11       MechanicalEngg     54.516\n",
      "12       ElectricalEngg   -145.755\n",
      "13          TelecomEngg    -89.379\n",
      "14    conscientiousness -20081.590\n",
      "15        agreeableness  14665.138\n",
      "16          nueroticism -11465.937\n",
      "\n",
      "Intercept: 99137.525\n"
     ]
    }
   ],
   "source": [
    "train3 = pd.read_csv('train.csv')\n",
    "test3 = pd.read_csv('test.csv')\n",
    "\n",
    "feature = ['Gender','10percentage','12percentage', 'CollegeTier','collegeGPA', \n",
    "           'English', 'Logical', 'Quant', 'Domain','ComputerProgramming',\n",
    "           'ComputerScience','MechanicalEngg','ElectricalEngg','TelecomEngg',\n",
    "           'conscientiousness','agreeableness','nueroticism']\n",
    "X_train_best_model = train3[feature].copy()\n",
    "X_test_best_model = test3[feature].copy()\n",
    "\n",
    "reg3 = LinearRegression(fit_intercept=True).fit(X_train_best_model, train.iloc[:, -1])\n",
    "\n",
    "y_test_best_model_pred = reg3.predict(X_test_best_model)\n",
    "predic_best_model = pd.DataFrame({'Actual': test3.iloc[:, -1], \n",
    "                                  'Predicted': y_test_best_model_pred})\n",
    "print(predic_best_model)\n",
    "\n",
    "coef_best_model = pd.DataFrame({'Coefficient': X_test_best_model.columns, \n",
    "                                'Predicted': reg3.coef_})\n",
    "print(round(coef_best_model,3))\n",
    "print()\n",
    "print(\"Intercept:\", round(reg3.intercept_,3))\n",
    "\n"
   ]
  },
  {
   "cell_type": "markdown",
   "metadata": {},
   "source": [
    "#### `Gọi hàm MAE (tự cài đặt hoặc từ thư viện) trên tập kiểm tra với mô hình my_best_model`\n"
   ]
  },
  {
   "cell_type": "code",
   "execution_count": 272,
   "metadata": {},
   "outputs": [
    {
     "name": "stdout",
     "output_type": "stream",
     "text": [
      "MAE:  103241.002\n"
     ]
    }
   ],
   "source": [
    "print(\"MAE: \", round(mean_absolute_error(test3.iloc[:, -1], y_test_best_model_pred),3))"
   ]
  },
  {
   "cell_type": "markdown",
   "metadata": {},
   "source": [
    "#### `Công thức hồi quy (phần trọng số làm tròn đến 3 chữ số thập phân)`\n",
    "\n",
    "Salary= 99137.525+ `Gender`* -24909.837 + `10percentage`* 702.390 + `12percentage `* 1039.326 </br> \n",
    "+`CollegeTier `* -97057.418 +`collegeGPA `* 1326.148 + `English`*138.267 +`Logical `* 108.238 </br>\n",
    "+`Quant `* 91.541 +`Domain `* 25549.124 +`ComputerProgramming `* 90.459+ `ComputerScience `*  -172.478 </br>\n",
    "+`MechanicalEngg `* 54.516 + `ElectricalEngg`* -145.755 +`TelecomEngg`* -89.379 + `conscientiousness`* -20081.590 </br>\n",
    "+`agreeableness `*  14665.138 + `nueroticism `* -11465.937"
   ]
  }
 ],
 "metadata": {
  "kernelspec": {
   "display_name": "Python 3.8.5 ('base')",
   "language": "python",
   "name": "python3"
  },
  "language_info": {
   "codemirror_mode": {
    "name": "ipython",
    "version": 3
   },
   "file_extension": ".py",
   "mimetype": "text/x-python",
   "name": "python",
   "nbconvert_exporter": "python",
   "pygments_lexer": "ipython3",
   "version": "3.11.3"
  },
  "orig_nbformat": 4,
  "vscode": {
   "interpreter": {
    "hash": "15af99fd1a1a3f0a3416ea421564e792a8676a13670c2eed127d89ab0518a27b"
   }
  }
 },
 "nbformat": 4,
 "nbformat_minor": 2
}
